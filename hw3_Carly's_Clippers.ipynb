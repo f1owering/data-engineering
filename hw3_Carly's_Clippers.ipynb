{
 "cells": [
  {
   "cell_type": "markdown",
   "id": "43a684a7-6c1a-4406-876c-6e438b633d08",
   "metadata": {},
   "source": [
    "### 과제 3 : Carly's Clippers"
   ]
  },
  {
   "cell_type": "code",
   "execution_count": 2,
   "id": "5aa3175c-a2d1-4b3a-ba80-608e52d412d8",
   "metadata": {},
   "outputs": [],
   "source": [
    "# three lists\n",
    "hairstyles = [\"bouffant\", \"pixie\", \"dreadlocks\", \"crew\", \"bowl\", \"bob\", \"mohawk\", \"flattop\"]\n",
    "prices = [30, 25, 40, 20, 20, 35, 50, 35]\n",
    "last_week = [2, 3, 5, 8, 4, 4, 6, 2]"
   ]
  },
  {
   "cell_type": "code",
   "execution_count": 3,
   "id": "7db069bb-dcc1-4058-96a1-d2e89c06b96c",
   "metadata": {},
   "outputs": [],
   "source": [
    "# 1\n",
    "total_price = 0"
   ]
  },
  {
   "cell_type": "code",
   "execution_count": 4,
   "id": "7161f604-ec4e-4f27-930f-1ce6c7da74dc",
   "metadata": {},
   "outputs": [
    {
     "data": {
      "text/plain": [
       "255"
      ]
     },
     "execution_count": 4,
     "metadata": {},
     "output_type": "execute_result"
    }
   ],
   "source": [
    "# 2\n",
    "for i in range(len(prices)) :\n",
    "    total_price += prices[i]\n",
    "    \n",
    "total_price"
   ]
  },
  {
   "cell_type": "code",
   "execution_count": 5,
   "id": "2815fde2-3344-475a-8de0-536bce6cd77d",
   "metadata": {},
   "outputs": [],
   "source": [
    "# 3\n",
    "average_price = total_price / len(prices)"
   ]
  },
  {
   "cell_type": "code",
   "execution_count": 8,
   "id": "7698576f-9416-4719-972d-8b53fff5ae86",
   "metadata": {},
   "outputs": [
    {
     "name": "stdout",
     "output_type": "stream",
     "text": [
      "Average price is 31.875\n"
     ]
    }
   ],
   "source": [
    "# 4\n",
    "print(f'Average price is {average_price}')"
   ]
  },
  {
   "cell_type": "code",
   "execution_count": 9,
   "id": "516505f1-5132-4a0c-a47e-34924551041e",
   "metadata": {},
   "outputs": [],
   "source": [
    "# 5\n",
    "new_prices = [k - 5 for k in prices]"
   ]
  },
  {
   "cell_type": "code",
   "execution_count": 10,
   "id": "6c9b8e83-35ae-4144-b6d8-44bad8d9ea32",
   "metadata": {},
   "outputs": [
    {
     "data": {
      "text/plain": [
       "[25, 20, 35, 15, 15, 30, 45, 30]"
      ]
     },
     "execution_count": 10,
     "metadata": {},
     "output_type": "execute_result"
    }
   ],
   "source": [
    "# 6\n",
    "new_prices"
   ]
  },
  {
   "cell_type": "code",
   "execution_count": 17,
   "id": "144a6599-7e46-4deb-98f0-9dfe711b893e",
   "metadata": {},
   "outputs": [],
   "source": [
    "# 7\n",
    "total_revenue = 0"
   ]
  },
  {
   "cell_type": "code",
   "execution_count": 18,
   "id": "35dbd68d-0e55-4b37-a812-459d8cc39dda",
   "metadata": {},
   "outputs": [],
   "source": [
    "# 8-9\n",
    "for i in range(len(hairstyles)) :\n",
    "    total_revenue += prices[i] * last_week[i]"
   ]
  },
  {
   "cell_type": "code",
   "execution_count": 19,
   "id": "9c164fa6-c2ee-4fcc-a30c-35c7c4dd4bc8",
   "metadata": {},
   "outputs": [
    {
     "data": {
      "text/plain": [
       "1085"
      ]
     },
     "execution_count": 19,
     "metadata": {},
     "output_type": "execute_result"
    }
   ],
   "source": [
    "# 10\n",
    "total_revenue"
   ]
  },
  {
   "cell_type": "code",
   "execution_count": 21,
   "id": "a89bb2af-370f-4546-b0c9-0a4e7ec4e30e",
   "metadata": {},
   "outputs": [
    {
     "name": "stdout",
     "output_type": "stream",
     "text": [
      "Average daily revenue is 155.0\n"
     ]
    }
   ],
   "source": [
    "# 11\n",
    "average_daily_revenue = total_revenue / 7\n",
    "print(f'Average daily revenue is {average_daily_revenue}')"
   ]
  },
  {
   "cell_type": "code",
   "execution_count": 22,
   "id": "3170c6b2-012c-42d0-9536-48e8549038d2",
   "metadata": {},
   "outputs": [],
   "source": [
    "# 12\n",
    "cuts_under_30 = [hairstyles[i] for i in range(len(new_prices) - 1)\n",
    "                if new_prices[i] < 30]"
   ]
  },
  {
   "cell_type": "code",
   "execution_count": 23,
   "id": "20ac0fd4-526f-42a5-9dd2-c94d50b84568",
   "metadata": {},
   "outputs": [
    {
     "data": {
      "text/plain": [
       "['bouffant', 'pixie', 'crew', 'bowl']"
      ]
     },
     "execution_count": 23,
     "metadata": {},
     "output_type": "execute_result"
    }
   ],
   "source": [
    "# 13\n",
    "cuts_under_30"
   ]
  },
  {
   "cell_type": "code",
   "execution_count": null,
   "id": "dd0bd259-4409-45d6-affa-faddcff41592",
   "metadata": {},
   "outputs": [],
   "source": []
  }
 ],
 "metadata": {
  "kernelspec": {
   "display_name": "Python 3 (ipykernel)",
   "language": "python",
   "name": "python3"
  },
  "language_info": {
   "codemirror_mode": {
    "name": "ipython",
    "version": 3
   },
   "file_extension": ".py",
   "mimetype": "text/x-python",
   "name": "python",
   "nbconvert_exporter": "python",
   "pygments_lexer": "ipython3",
   "version": "3.9.7"
  }
 },
 "nbformat": 4,
 "nbformat_minor": 5
}
