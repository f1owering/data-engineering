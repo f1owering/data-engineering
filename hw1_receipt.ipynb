{
 "cells": [
  {
   "cell_type": "markdown",
   "id": "4cf3dd0d-8992-4a41-a30f-9521c27aae6e",
   "metadata": {},
   "source": [
    "### 과제 1 : Receipts for Lovely Loveseats"
   ]
  },
  {
   "cell_type": "code",
   "execution_count": 3,
   "id": "b5bb8ee3-b674-4bf5-b74e-7cfc86ee9a6c",
   "metadata": {},
   "outputs": [],
   "source": [
    "# 1\n",
    "lovely_loveseat_description = \"Lovely Loveseat. Tufted polyster blend on wood. 32 inches high x 40 inches wide x 30 inches deep. Red or white.\""
   ]
  },
  {
   "cell_type": "code",
   "execution_count": 4,
   "id": "56687e99-510f-460d-ac95-410b8ed7b847",
   "metadata": {},
   "outputs": [],
   "source": [
    "# 2\n",
    "lovely_loveseat_price = 254.00"
   ]
  },
  {
   "cell_type": "code",
   "execution_count": 5,
   "id": "a13dfd4d-0fa9-47b3-ac8d-bd70a58e3929",
   "metadata": {},
   "outputs": [],
   "source": [
    "# 3\n",
    "stylish_settee_description = \"Stylish Settee. Faux leather on birch. 29.50 inches high x 54.75 inches wide x 28 inches deep. black.\""
   ]
  },
  {
   "cell_type": "code",
   "execution_count": 6,
   "id": "72be1291-e2e5-45e2-9a61-e06bcdbafc1c",
   "metadata": {},
   "outputs": [],
   "source": [
    "# 4\n",
    "stylish_settee_price = 180.50"
   ]
  },
  {
   "cell_type": "code",
   "execution_count": 7,
   "id": "72bd6e48-0b33-49f1-ae37-034f981b2c4e",
   "metadata": {},
   "outputs": [],
   "source": [
    "# 5\n",
    "luxurious_lamp_description = \"Luxurious Lamp. Glass and iron. 36 inches tall. Brown with cream shade.\""
   ]
  },
  {
   "cell_type": "code",
   "execution_count": 8,
   "id": "0c90e3e5-2400-4c86-ad66-7de53149b187",
   "metadata": {},
   "outputs": [],
   "source": [
    "# 6\n",
    "luxurious_lamp_price = 52.15"
   ]
  },
  {
   "cell_type": "code",
   "execution_count": 9,
   "id": "16c05862-b80f-4456-a3d5-2a51141f85ec",
   "metadata": {},
   "outputs": [],
   "source": [
    "# 7\n",
    "sales_tax = .088"
   ]
  },
  {
   "cell_type": "code",
   "execution_count": 10,
   "id": "c5fe1760-cb2f-40f3-8fee-b2108aa01801",
   "metadata": {},
   "outputs": [],
   "source": [
    "# 8\n",
    "customer_one_total = 0"
   ]
  },
  {
   "cell_type": "code",
   "execution_count": 11,
   "id": "7ad278a9-d9b8-476a-8c0e-dff1f8e0e946",
   "metadata": {},
   "outputs": [],
   "source": [
    "# 9\n",
    "customer_one_itemization = \"\""
   ]
  },
  {
   "cell_type": "code",
   "execution_count": 12,
   "id": "fb3492e3-9da4-48cd-826f-4358871dae97",
   "metadata": {},
   "outputs": [],
   "source": [
    "# 10\n",
    "customer_one_total += lovely_loveseat_price"
   ]
  },
  {
   "cell_type": "code",
   "execution_count": 13,
   "id": "08008dc8-7465-4ed5-b114-4a90f4907545",
   "metadata": {},
   "outputs": [],
   "source": [
    "# 11\n",
    "customer_one_itemization += lovely_loveseat_description"
   ]
  },
  {
   "cell_type": "code",
   "execution_count": 14,
   "id": "0f0009d6-95eb-4bca-83a9-56d205da97c1",
   "metadata": {},
   "outputs": [],
   "source": [
    "# 12\n",
    "customer_one_total += luxurious_lamp_price"
   ]
  },
  {
   "cell_type": "code",
   "execution_count": 15,
   "id": "236878aa-0870-48da-b074-b4046432cc3c",
   "metadata": {},
   "outputs": [],
   "source": [
    "# 13\n",
    "customer_one_itemization += luxurious_lamp_description"
   ]
  },
  {
   "cell_type": "code",
   "execution_count": 16,
   "id": "49645931-db35-4ace-a436-457fddcd252d",
   "metadata": {},
   "outputs": [],
   "source": [
    "# 14\n",
    "customer_one_tax = customer_one_total * sales_tax"
   ]
  },
  {
   "cell_type": "code",
   "execution_count": 17,
   "id": "e29bd859-2910-4108-b21d-93a4ed2f4576",
   "metadata": {},
   "outputs": [],
   "source": [
    "# 15\n",
    "customer_one_total += customer_one_tax"
   ]
  },
  {
   "cell_type": "code",
   "execution_count": 23,
   "id": "ae03bbe4-074b-402b-9d0c-5281512bb379",
   "metadata": {},
   "outputs": [
    {
     "name": "stdout",
     "output_type": "stream",
     "text": [
      "Customer One Items :  Lovely Loveseat. Tufted polyster blend on wood. 32 inches high x 40 inches wide x 30 inches deep. Red or white.Luxurious Lamp. Glass and iron. 36 inches tall. Brown with cream shade.\n"
     ]
    }
   ],
   "source": [
    "# 16-17\n",
    "print(\"Customer One Items : \", customer_one_itemization)"
   ]
  },
  {
   "cell_type": "code",
   "execution_count": 24,
   "id": "e0285b5b-2046-4295-90d4-e39f5227f621",
   "metadata": {},
   "outputs": [
    {
     "name": "stdout",
     "output_type": "stream",
     "text": [
      "Customer One Total :  333.09119999999996\n"
     ]
    }
   ],
   "source": [
    "# 18-19\n",
    "print(\"Customer One Total : \", customer_one_total)"
   ]
  },
  {
   "cell_type": "code",
   "execution_count": 25,
   "id": "b9d3fa50-1027-46cc-8342-56614a577124",
   "metadata": {},
   "outputs": [
    {
     "name": "stdout",
     "output_type": "stream",
     "text": [
      "Customer One Items : Lovely Loveseat. Tufted polyster blend on wood. 32 inches high x 40 inches wide x 30 inches deep. Red or white.Luxurious Lamp. Glass and iron. 36 inches tall. Brown with cream shade.\n",
      "Customer One Total : 333.09119999999996\n"
     ]
    }
   ],
   "source": [
    "# 20\n",
    "print(\"Customer One Items : \" + str(customer_one_itemization))\n",
    "print(\"Customer One Total : \" + str(customer_one_total))"
   ]
  },
  {
   "cell_type": "code",
   "execution_count": null,
   "id": "3b9ed14b-a4fe-4d75-80ad-f1754d98afff",
   "metadata": {},
   "outputs": [],
   "source": []
  }
 ],
 "metadata": {
  "kernelspec": {
   "display_name": "Python 3 (ipykernel)",
   "language": "python",
   "name": "python3"
  },
  "language_info": {
   "codemirror_mode": {
    "name": "ipython",
    "version": 3
   },
   "file_extension": ".py",
   "mimetype": "text/x-python",
   "name": "python",
   "nbconvert_exporter": "python",
   "pygments_lexer": "ipython3",
   "version": "3.9.7"
  }
 },
 "nbformat": 4,
 "nbformat_minor": 5
}
