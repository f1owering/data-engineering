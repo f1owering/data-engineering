{
 "cells": [
  {
   "cell_type": "markdown",
   "id": "f2280389-a81d-477d-92b4-3bef96619b44",
   "metadata": {},
   "source": [
    "### 과제 2 : Gradebook"
   ]
  },
  {
   "cell_type": "code",
   "execution_count": 1,
   "id": "8996a2f0-d871-45e4-b2d3-697e6f9f6d11",
   "metadata": {},
   "outputs": [],
   "source": [
    "# 1\n",
    "subjects = [\"physics\", \"calculus\", \"poetry\", \"history\"]"
   ]
  },
  {
   "cell_type": "code",
   "execution_count": 2,
   "id": "00bbfe93-8176-4ea5-9123-c23a2a54ebb1",
   "metadata": {},
   "outputs": [],
   "source": [
    "# 2\n",
    "grades = [98, 97, 85, 88]"
   ]
  },
  {
   "cell_type": "code",
   "execution_count": 3,
   "id": "f2f5d452-f632-491f-a2e4-15ea8999b16a",
   "metadata": {},
   "outputs": [],
   "source": [
    "# 3\n",
    "gradebook = [[\"physics\", 98], [\"calculus\", 97], [\"poetry\", 85],[\"history\", 88]]"
   ]
  },
  {
   "cell_type": "code",
   "execution_count": 4,
   "id": "8257bc92-c086-4f57-a97a-3dc0a2cc26dd",
   "metadata": {},
   "outputs": [
    {
     "name": "stdout",
     "output_type": "stream",
     "text": [
      "[['physics', 98], ['calculus', 97], ['poetry', 85], ['history', 88]]\n"
     ]
    }
   ],
   "source": [
    "# 4\n",
    "print(gradebook)"
   ]
  },
  {
   "cell_type": "code",
   "execution_count": 5,
   "id": "28771e51-eea1-4deb-b922-b634f3675db0",
   "metadata": {},
   "outputs": [],
   "source": [
    "# 5\n",
    "gradebook.append([\"computer_science\", 100])"
   ]
  },
  {
   "cell_type": "code",
   "execution_count": 10,
   "id": "40b3bf53-79dc-49a8-988b-9003bf226da8",
   "metadata": {},
   "outputs": [],
   "source": [
    "# 6\n",
    "gradebook.append([\"visual arts\", 93])"
   ]
  },
  {
   "cell_type": "code",
   "execution_count": 11,
   "id": "46b9a5cf-0019-45a5-9129-df94beeda5a5",
   "metadata": {},
   "outputs": [],
   "source": [
    "# 7\n",
    "gradebook[-1].remove(93)\n",
    "gradebook[-1].append(98)"
   ]
  },
  {
   "cell_type": "code",
   "execution_count": 12,
   "id": "0d6a2804-5a31-4ef8-bfdf-635089dce213",
   "metadata": {},
   "outputs": [],
   "source": [
    "# 8\n",
    "gradebook[2].remove(85)"
   ]
  },
  {
   "cell_type": "code",
   "execution_count": 13,
   "id": "6402cc54-14dd-47e4-a0b3-96538162ba92",
   "metadata": {},
   "outputs": [],
   "source": [
    "# 9\n",
    "gradebook[2].append(\"Pass\")"
   ]
  },
  {
   "cell_type": "code",
   "execution_count": 14,
   "id": "a60a6a21-8790-4f67-804d-fae6c9cce86c",
   "metadata": {},
   "outputs": [],
   "source": [
    "# 10\n",
    "last_semester_gradebook = [[\"politics\", 80], [\"latin\", 96], [\"dance\", 97], [\"architecture\", 65]]\n",
    "full_gradebook = [last_semester_gradebook + gradebook]"
   ]
  },
  {
   "cell_type": "code",
   "execution_count": 15,
   "id": "8014b5c7-e3d7-4b4e-8691-6088ce3f1c8b",
   "metadata": {},
   "outputs": [
    {
     "name": "stdout",
     "output_type": "stream",
     "text": [
      "[[['politics', 80], ['latin', 96], ['dance', 97], ['architecture', 65], ['physics', 98], ['calculus', 97], ['poetry', 'Pass'], ['history', 88], ['computer_science', 100], ['visual arts', 98], ['visual arts', 98]]]\n"
     ]
    }
   ],
   "source": [
    "print(full_gradebook)"
   ]
  }
 ],
 "metadata": {
  "kernelspec": {
   "display_name": "Python 3 (ipykernel)",
   "language": "python",
   "name": "python3"
  },
  "language_info": {
   "codemirror_mode": {
    "name": "ipython",
    "version": 3
   },
   "file_extension": ".py",
   "mimetype": "text/x-python",
   "name": "python",
   "nbconvert_exporter": "python",
   "pygments_lexer": "ipython3",
   "version": "3.9.7"
  }
 },
 "nbformat": 4,
 "nbformat_minor": 5
}
