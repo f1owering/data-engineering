{
 "cells": [
  {
   "cell_type": "markdown",
   "id": "f62010d8-daac-40de-be92-b3c8260a4d88",
   "metadata": {},
   "source": [
    "### 과제 4 : 나의 조선시대 이름 찾기"
   ]
  },
  {
   "cell_type": "code",
   "execution_count": 2,
   "id": "a3abf732-77d9-4a9d-80cd-a8ebe30138ce",
   "metadata": {},
   "outputs": [
    {
     "name": "stdout",
     "output_type": "stream",
     "text": [
      "['쌍', '쇠', '복', '돌', '팽', '육', '쌍', '개', '칠', '갑', '삼', '방']\n"
     ]
    }
   ],
   "source": [
    "# 1\n",
    "Month = ['쌍', '쇠', '복', '돌', '팽', '육', '쌍', '개', '칠', '갑', '삼', '방']\n",
    "print(Month)"
   ]
  },
  {
   "cell_type": "code",
   "execution_count": 3,
   "id": "9f874fc5-40a7-422b-a1a3-5891c595b3e3",
   "metadata": {},
   "outputs": [
    {
     "name": "stdout",
     "output_type": "stream",
     "text": [
      "['봉', '구', '욕', '포', '똥', '삼', '식', '석', '놈', '님', '년', '돌', '단', '득', '방', '질', '장', '걸', '래', '룡', '동', '순', '자', '박', '창', '언', '것', '포', '만', '단', '국']\n"
     ]
    }
   ],
   "source": [
    "# 2\n",
    "Day = ['봉', '구', '욕', '포', '똥', '삼', '식', '석', '놈', '님', '년', '돌', '단', '득', '방', '질', '장', '걸', '래', '룡', '동', '순', '자', '박', '창', '언', '것', '포', '만', '단', '국']\n",
    "print(Day)"
   ]
  },
  {
   "cell_type": "code",
   "execution_count": 4,
   "id": "62e108cf-330f-4c5a-aadb-a0c170490b72",
   "metadata": {},
   "outputs": [],
   "source": [
    "# 3\n",
    "def get_my_chosun_name(family_name, month, day) :\n",
    "    chosun_name = family_name + Month[month - 1] + Day[day - 1]\n",
    "    print(f'당신의 조선시대 이름은 {chosun_name} 입니다.')"
   ]
  },
  {
   "cell_type": "code",
   "execution_count": 5,
   "id": "b41bd92e-1414-4345-9d59-f719503ceaa1",
   "metadata": {},
   "outputs": [
    {
     "name": "stdout",
     "output_type": "stream",
     "text": [
      "당신의 조선시대 이름은 이칠석 입니다.\n"
     ]
    }
   ],
   "source": [
    "# 4\n",
    "get_my_chosun_name('이', 9, 8)"
   ]
  },
  {
   "cell_type": "code",
   "execution_count": null,
   "id": "6b5774cf-fde9-49e1-a938-fa9da23c0fec",
   "metadata": {},
   "outputs": [],
   "source": []
  }
 ],
 "metadata": {
  "kernelspec": {
   "display_name": "Python 3 (ipykernel)",
   "language": "python",
   "name": "python3"
  },
  "language_info": {
   "codemirror_mode": {
    "name": "ipython",
    "version": 3
   },
   "file_extension": ".py",
   "mimetype": "text/x-python",
   "name": "python",
   "nbconvert_exporter": "python",
   "pygments_lexer": "ipython3",
   "version": "3.9.7"
  }
 },
 "nbformat": 4,
 "nbformat_minor": 5
}
